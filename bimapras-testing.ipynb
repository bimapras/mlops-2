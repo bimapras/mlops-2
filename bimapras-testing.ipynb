{
 "cells": [
  {
   "cell_type": "code",
   "execution_count": 3,
   "metadata": {},
   "outputs": [],
   "source": [
    "import pandas as pd\n",
    "import numpy as np\n",
    "import tensorflow as tf\n",
    "import requests\n",
    "import json\n",
    "import base64\n",
    "import os"
   ]
  },
  {
   "cell_type": "markdown",
   "metadata": {},
   "source": [
    "# Data loading"
   ]
  },
  {
   "cell_type": "code",
   "execution_count": 27,
   "metadata": {},
   "outputs": [],
   "source": [
    "df = pd.read_csv(os.path.join('data', 'alzheimers_disease_data.csv'))"
   ]
  },
  {
   "cell_type": "code",
   "execution_count": 28,
   "metadata": {},
   "outputs": [
    {
     "data": {
      "text/plain": [
       "Index(['PatientID', 'Age', 'Gender', 'Ethnicity', 'EducationLevel', 'BMI',\n",
       "       'Smoking', 'AlcoholConsumption', 'PhysicalActivity', 'DietQuality',\n",
       "       'SleepQuality', 'FamilyHistoryAlzheimers', 'CardiovascularDisease',\n",
       "       'Diabetes', 'Depression', 'HeadInjury', 'Hypertension', 'SystolicBP',\n",
       "       'DiastolicBP', 'CholesterolTotal', 'CholesterolLDL', 'CholesterolHDL',\n",
       "       'CholesterolTriglycerides', 'MMSE', 'FunctionalAssessment',\n",
       "       'MemoryComplaints', 'BehavioralProblems', 'ADL', 'Confusion',\n",
       "       'Disorientation', 'PersonalityChanges', 'DifficultyCompletingTasks',\n",
       "       'Forgetfulness', 'Diagnosis', 'DoctorInCharge'],\n",
       "      dtype='object')"
      ]
     },
     "execution_count": 28,
     "metadata": {},
     "output_type": "execute_result"
    }
   ],
   "source": [
    "df.columns"
   ]
  },
  {
   "cell_type": "markdown",
   "metadata": {},
   "source": [
    "## Prediction"
   ]
  },
  {
   "cell_type": "code",
   "execution_count": 44,
   "metadata": {},
   "outputs": [],
   "source": [
    "def create_tf_example(input):\n",
    "    feature = {}\n",
    "\n",
    "    for key, value in input.items():\n",
    "        if isinstance(value, int):\n",
    "            feature[key] = tf.train.Feature(int64_list=tf.train.Int64List(value=[value]))\n",
    "        elif isinstance(value, float):\n",
    "            feature[key] = tf.train.Feature(float_list=tf.train.FloatList(value=[value]))\n",
    "        elif isinstance(value, str):\n",
    "            feature[key] = tf.train.Feature(bytes_list=tf.train.BytesList(value=[value.encode()]))\n",
    "    \n",
    "    example = tf.train.Example(features=tf.train.Features(feature=feature))\n",
    "    return example.SerializeToString()\n",
    "\n",
    "pred = df.drop(['Diagnosis'], axis=1).sample(1).to_dict(orient='records')[0]\n",
    "# dict_pred = pred\n",
    "serialized_example = create_tf_example(pred)"
   ]
  },
  {
   "cell_type": "code",
   "execution_count": 45,
   "metadata": {},
   "outputs": [
    {
     "name": "stdout",
     "output_type": "stream",
     "text": [
      "Alzheimers is not detected\n"
     ]
    }
   ],
   "source": [
    "json_data = json.dumps({\n",
    "    \"instances\": [\n",
    "        {\n",
    "            \"examples\": {\n",
    "                \"b64\": base64.b64encode(serialized_example).decode('utf-8')\n",
    "            }\n",
    "        }\n",
    "    ]\n",
    "})\n",
    "\n",
    "endpoint = \"https://mlops-prediction-production.up.railway.app/v1/models/alzheimer_model:predict\"\n",
    "\n",
    "try:\n",
    "    response = requests.post(endpoint, data=json_data, headers={\"Content-Type\": \"application/json\"})\n",
    "    response.raise_for_status()\n",
    "    prediction = response.json()[\"predictions\"][0][0]\n",
    "\n",
    "    if prediction < 0.6:\n",
    "        print('Alzheimers is not detected')\n",
    "    else:\n",
    "        print('Alzheimers is detected')\n",
    "except requests.exceptions.RequestException as e:\n",
    "    print(f\"Request failed: {e}\")\n",
    "    print(f\"Response content: {response.content}\")\n",
    "except KeyError:\n",
    "    print(\"Unexpected response format.\")"
   ]
  },
  {
   "cell_type": "code",
   "execution_count": 46,
   "metadata": {},
   "outputs": [
    {
     "data": {
      "text/plain": [
       "192    0\n",
       "Name: Diagnosis, dtype: int64"
      ]
     },
     "execution_count": 46,
     "metadata": {},
     "output_type": "execute_result"
    }
   ],
   "source": [
    "patient = next(iter(pred.items()))[1]\n",
    "df.Diagnosis[df.PatientID == patient]"
   ]
  }
 ],
 "metadata": {
  "kernelspec": {
   "display_name": "proyek-2-mlops",
   "language": "python",
   "name": "python3"
  },
  "language_info": {
   "codemirror_mode": {
    "name": "ipython",
    "version": 3
   },
   "file_extension": ".py",
   "mimetype": "text/x-python",
   "name": "python",
   "nbconvert_exporter": "python",
   "pygments_lexer": "ipython3",
   "version": "3.8.18"
  }
 },
 "nbformat": 4,
 "nbformat_minor": 2
}
