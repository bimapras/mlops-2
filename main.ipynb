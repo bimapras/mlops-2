{
 "cells": [
  {
   "cell_type": "markdown",
   "metadata": {},
   "source": [
    "# Alzeimers Pipeline"
   ]
  },
  {
   "cell_type": "code",
   "execution_count": 1,
   "metadata": {},
   "outputs": [],
   "source": [
    "import os\n",
    "from typing import Text\n",
    "from modules.components import init_components \n",
    "from absl import logging\n",
    "from tfx.orchestration import metadata, pipeline\n",
    "from tfx.orchestration.beam.beam_dag_runner import BeamDagRunner"
   ]
  },
  {
   "cell_type": "markdown",
   "metadata": {},
   "source": [
    "## Set Variable"
   ]
  },
  {
   "cell_type": "code",
   "execution_count": 2,
   "metadata": {},
   "outputs": [],
   "source": [
    "PIPELINE_NAME = \"Bima Prastyaji-pipeline\"\n",
    "\n",
    "DATA_ROOT = \"data\"\n",
    "TRANSFORM_MODULE_FILE = \"modules/transform_module.py\"\n",
    "TUNER_TRAINER_MODULE_FILE = \"modules/tuner_trainer.py\"\n",
    "\n",
    "OUTPUT_BASE = \"outputs\"\n",
    "serving_model_dir = os.path.join(OUTPUT_BASE, 'serving_model')\n",
    "pipeline_root = os.path.join(OUTPUT_BASE, PIPELINE_NAME)\n",
    "metadata_path = os.path.join(pipeline_root, \"metadata.sqlite\")"
   ]
  },
  {
   "cell_type": "markdown",
   "metadata": {},
   "source": [
    "## Run Pipeline"
   ]
  },
  {
   "cell_type": "code",
   "execution_count": 3,
   "metadata": {},
   "outputs": [
    {
     "name": "stdout",
     "output_type": "stream",
     "text": [
      "Trial 10 Complete [00h 00m 36s]\n",
      "val_binary_accuracy: 0.8175312280654907\n",
      "\n",
      "Best val_binary_accuracy So Far: 0.8446249961853027\n",
      "Total elapsed time: 00h 04m 22s\n",
      "INFO:tensorflow:Oracle triggered exit\n"
     ]
    },
    {
     "name": "stderr",
     "output_type": "stream",
     "text": [
      "INFO:tensorflow:Oracle triggered exit\n"
     ]
    },
    {
     "name": "stdout",
     "output_type": "stream",
     "text": [
      "Results summary\n",
      "Results in outputs\\Bima Prastyaji-pipeline\\Tuner\\.system\\executor_execution\\7\\.temp\\7\\alzheimer_prediction\n",
      "Showing 10 best trials\n",
      "Objective(name=\"val_binary_accuracy\", direction=\"max\")\n",
      "\n",
      "Trial 03 summary\n",
      "Hyperparameters:\n",
      "dense_1: 256\n",
      "dense_2: 64\n",
      "dense_3: 64\n",
      "dropout: 0.5\n",
      "learning_rate: 0.01\n",
      "Score: 0.8446249961853027\n",
      "\n",
      "Trial 07 summary\n",
      "Hyperparameters:\n",
      "dense_1: 160\n",
      "dense_2: 64\n",
      "dense_3: 32\n",
      "dropout: 0.5\n",
      "learning_rate: 0.01\n",
      "Score: 0.8309062719345093\n",
      "\n",
      "Trial 01 summary\n",
      "Hyperparameters:\n",
      "dense_1: 32\n",
      "dense_2: 32\n",
      "dense_3: 32\n",
      "dropout: 0.1\n",
      "learning_rate: 0.001\n",
      "Score: 0.8288124799728394\n",
      "\n",
      "Trial 02 summary\n",
      "Hyperparameters:\n",
      "dense_1: 256\n",
      "dense_2: 128\n",
      "dense_3: 16\n",
      "dropout: 0.4\n",
      "learning_rate: 0.01\n",
      "Score: 0.8266249895095825\n",
      "\n",
      "Trial 09 summary\n",
      "Hyperparameters:\n",
      "dense_1: 224\n",
      "dense_2: 96\n",
      "dense_3: 48\n",
      "dropout: 0.4\n",
      "learning_rate: 0.01\n",
      "Score: 0.8175312280654907\n",
      "\n",
      "Trial 08 summary\n",
      "Hyperparameters:\n",
      "dense_1: 192\n",
      "dense_2: 128\n",
      "dense_3: 16\n",
      "dropout: 0.1\n",
      "learning_rate: 0.01\n",
      "Score: 0.8130937218666077\n",
      "\n",
      "Trial 05 summary\n",
      "Hyperparameters:\n",
      "dense_1: 96\n",
      "dense_2: 128\n",
      "dense_3: 64\n",
      "dropout: 0.1\n",
      "learning_rate: 0.01\n",
      "Score: 0.8130624890327454\n",
      "\n",
      "Trial 00 summary\n",
      "Hyperparameters:\n",
      "dense_1: 160\n",
      "dense_2: 64\n",
      "dense_3: 16\n",
      "dropout: 0.2\n",
      "learning_rate: 0.01\n",
      "Score: 0.8085625171661377\n",
      "\n",
      "Trial 06 summary\n",
      "Hyperparameters:\n",
      "dense_1: 160\n",
      "dense_2: 32\n",
      "dense_3: 16\n",
      "dropout: 0.5\n",
      "learning_rate: 0.001\n",
      "Score: 0.8084999918937683\n",
      "\n",
      "Trial 04 summary\n",
      "Hyperparameters:\n",
      "dense_1: 192\n",
      "dense_2: 96\n",
      "dense_3: 32\n",
      "dropout: 0.30000000000000004\n",
      "learning_rate: 0.001\n",
      "Score: 0.7837812304496765\n"
     ]
    },
    {
     "name": "stderr",
     "output_type": "stream",
     "text": [
      "WARNING:absl:ArtifactQuery.property_predicate is not supported.\n",
      "WARNING:absl:ArtifactQuery.property_predicate is not supported.\n",
      "WARNING:absl:ArtifactQuery.property_predicate is not supported.\n",
      "WARNING:absl:ArtifactQuery.property_predicate is not supported.\n",
      "WARNING:absl:Examples artifact does not have payload_format custom property. Falling back to FORMAT_TF_EXAMPLE\n",
      "WARNING:absl:Examples artifact does not have payload_format custom property. Falling back to FORMAT_TF_EXAMPLE\n",
      "WARNING:absl:Examples artifact does not have payload_format custom property. Falling back to FORMAT_TF_EXAMPLE\n"
     ]
    },
    {
     "name": "stdout",
     "output_type": "stream",
     "text": [
      "Model: \"model_1\"\n",
      "__________________________________________________________________________________________________\n",
      " Layer (type)                   Output Shape         Param #     Connected to                     \n",
      "==================================================================================================\n",
      " Gender_xf (InputLayer)         [(None, 2)]          0           []                               \n",
      "                                                                                                  \n",
      " Ethnicity_xf (InputLayer)      [(None, 4)]          0           []                               \n",
      "                                                                                                  \n",
      " EducationLevel_xf (InputLayer)  [(None, 4)]         0           []                               \n",
      "                                                                                                  \n",
      " Smoking_xf (InputLayer)        [(None, 2)]          0           []                               \n",
      "                                                                                                  \n",
      " FamilyHistoryAlzheimers_xf (In  [(None, 2)]         0           []                               \n",
      " putLayer)                                                                                        \n",
      "                                                                                                  \n",
      " CardiovascularDisease_xf (Inpu  [(None, 2)]         0           []                               \n",
      " tLayer)                                                                                          \n",
      "                                                                                                  \n",
      " Diabetes_xf (InputLayer)       [(None, 2)]          0           []                               \n",
      "                                                                                                  \n",
      " Depression_xf (InputLayer)     [(None, 2)]          0           []                               \n",
      "                                                                                                  \n",
      " HeadInjury_xf (InputLayer)     [(None, 2)]          0           []                               \n",
      "                                                                                                  \n",
      " Hypertension_xf (InputLayer)   [(None, 2)]          0           []                               \n",
      "                                                                                                  \n",
      " MemoryComplaints_xf (InputLaye  [(None, 2)]         0           []                               \n",
      " r)                                                                                               \n",
      "                                                                                                  \n",
      " BehavioralProblems_xf (InputLa  [(None, 2)]         0           []                               \n",
      " yer)                                                                                             \n",
      "                                                                                                  \n",
      " Confusion_xf (InputLayer)      [(None, 2)]          0           []                               \n",
      "                                                                                                  \n",
      " Disorientation_xf (InputLayer)  [(None, 2)]         0           []                               \n",
      "                                                                                                  \n",
      " PersonalityChanges_xf (InputLa  [(None, 2)]         0           []                               \n",
      " yer)                                                                                             \n",
      "                                                                                                  \n",
      " DifficultyCompletingTasks_xf (  [(None, 2)]         0           []                               \n",
      " InputLayer)                                                                                      \n",
      "                                                                                                  \n",
      " Forgetfulness_xf (InputLayer)  [(None, 2)]          0           []                               \n",
      "                                                                                                  \n",
      " SleepQuality_xf (InputLayer)   [(None, 1)]          0           []                               \n",
      "                                                                                                  \n",
      " PhysicalActivity_xf (InputLaye  [(None, 1)]         0           []                               \n",
      " r)                                                                                               \n",
      "                                                                                                  \n",
      " DietQuality_xf (InputLayer)    [(None, 1)]          0           []                               \n",
      "                                                                                                  \n",
      " MMSE_xf (InputLayer)           [(None, 1)]          0           []                               \n",
      "                                                                                                  \n",
      " CholesterolTriglycerides_xf (I  [(None, 1)]         0           []                               \n",
      " nputLayer)                                                                                       \n",
      "                                                                                                  \n",
      " ADL_xf (InputLayer)            [(None, 1)]          0           []                               \n",
      "                                                                                                  \n",
      " CholesterolTotal_xf (InputLaye  [(None, 1)]         0           []                               \n",
      " r)                                                                                               \n",
      "                                                                                                  \n",
      " SystolicBP_xf (InputLayer)     [(None, 1)]          0           []                               \n",
      "                                                                                                  \n",
      " CholesterolHDL_xf (InputLayer)  [(None, 1)]         0           []                               \n",
      "                                                                                                  \n",
      " BMI_xf (InputLayer)            [(None, 1)]          0           []                               \n",
      "                                                                                                  \n",
      " CholesterolLDL_xf (InputLayer)  [(None, 1)]         0           []                               \n",
      "                                                                                                  \n",
      " DiastolicBP_xf (InputLayer)    [(None, 1)]          0           []                               \n",
      "                                                                                                  \n",
      " FunctionalAssessment_xf (Input  [(None, 1)]         0           []                               \n",
      " Layer)                                                                                           \n",
      "                                                                                                  \n",
      " Age_xf (InputLayer)            [(None, 1)]          0           []                               \n",
      "                                                                                                  \n",
      " AlcoholConsumption_xf (InputLa  [(None, 1)]         0           []                               \n",
      " yer)                                                                                             \n",
      "                                                                                                  \n",
      " concatenate_1 (Concatenate)    (None, 53)           0           ['Gender_xf[0][0]',              \n",
      "                                                                  'Ethnicity_xf[0][0]',           \n",
      "                                                                  'EducationLevel_xf[0][0]',      \n",
      "                                                                  'Smoking_xf[0][0]',             \n",
      "                                                                  'FamilyHistoryAlzheimers_xf[0][0\n",
      "                                                                 ]',                              \n",
      "                                                                  'CardiovascularDisease_xf[0][0]'\n",
      "                                                                 , 'Diabetes_xf[0][0]',           \n",
      "                                                                  'Depression_xf[0][0]',          \n",
      "                                                                  'HeadInjury_xf[0][0]',          \n",
      "                                                                  'Hypertension_xf[0][0]',        \n",
      "                                                                  'MemoryComplaints_xf[0][0]',    \n",
      "                                                                  'BehavioralProblems_xf[0][0]',  \n",
      "                                                                  'Confusion_xf[0][0]',           \n",
      "                                                                  'Disorientation_xf[0][0]',      \n",
      "                                                                  'PersonalityChanges_xf[0][0]',  \n",
      "                                                                  'DifficultyCompletingTasks_xf[0]\n",
      "                                                                 [0]',                            \n",
      "                                                                  'Forgetfulness_xf[0][0]',       \n",
      "                                                                  'SleepQuality_xf[0][0]',        \n",
      "                                                                  'PhysicalActivity_xf[0][0]',    \n",
      "                                                                  'DietQuality_xf[0][0]',         \n",
      "                                                                  'MMSE_xf[0][0]',                \n",
      "                                                                  'CholesterolTriglycerides_xf[0][\n",
      "                                                                 0]',                             \n",
      "                                                                  'ADL_xf[0][0]',                 \n",
      "                                                                  'CholesterolTotal_xf[0][0]',    \n",
      "                                                                  'SystolicBP_xf[0][0]',          \n",
      "                                                                  'CholesterolHDL_xf[0][0]',      \n",
      "                                                                  'BMI_xf[0][0]',                 \n",
      "                                                                  'CholesterolLDL_xf[0][0]',      \n",
      "                                                                  'DiastolicBP_xf[0][0]',         \n",
      "                                                                  'FunctionalAssessment_xf[0][0]',\n",
      "                                                                  'Age_xf[0][0]',                 \n",
      "                                                                  'AlcoholConsumption_xf[0][0]']  \n",
      "                                                                                                  \n",
      " dense_4 (Dense)                (None, 256)          13824       ['concatenate_1[0][0]']          \n",
      "                                                                                                  \n",
      " dense_5 (Dense)                (None, 64)           16448       ['dense_4[0][0]']                \n",
      "                                                                                                  \n",
      " dense_6 (Dense)                (None, 64)           4160        ['dense_5[0][0]']                \n",
      "                                                                                                  \n",
      " dropout_1 (Dropout)            (None, 64)           0           ['dense_6[0][0]']                \n",
      "                                                                                                  \n",
      " dense_7 (Dense)                (None, 1)            65          ['dropout_1[0][0]']              \n",
      "                                                                                                  \n",
      "==================================================================================================\n",
      "Total params: 34,497\n",
      "Trainable params: 34,497\n",
      "Non-trainable params: 0\n",
      "__________________________________________________________________________________________________\n",
      "Epoch 1/10\n",
      "1000/1000 [==============================] - 9s 8ms/step - loss: 0.2879 - binary_accuracy: 0.8838 - val_loss: 0.7505 - val_binary_accuracy: 0.8176\n",
      "Epoch 2/10\n",
      "1000/1000 [==============================] - 7s 7ms/step - loss: 0.0843 - binary_accuracy: 0.9688 - val_loss: 0.7146 - val_binary_accuracy: 0.8154\n",
      "Epoch 3/10\n",
      "1000/1000 [==============================] - 7s 7ms/step - loss: 0.0383 - binary_accuracy: 0.9876 - val_loss: 2.2723 - val_binary_accuracy: 0.8041\n",
      "Epoch 4/10\n",
      "1000/1000 [==============================] - 8s 8ms/step - loss: 0.0120 - binary_accuracy: 0.9963 - val_loss: 3.9931 - val_binary_accuracy: 0.7972\n",
      "Epoch 4: early stopping\n",
      "INFO:tensorflow:struct2tensor is not available.\n"
     ]
    },
    {
     "name": "stderr",
     "output_type": "stream",
     "text": [
      "INFO:tensorflow:struct2tensor is not available.\n"
     ]
    },
    {
     "name": "stdout",
     "output_type": "stream",
     "text": [
      "INFO:tensorflow:tensorflow_decision_forests is not available.\n"
     ]
    },
    {
     "name": "stderr",
     "output_type": "stream",
     "text": [
      "INFO:tensorflow:tensorflow_decision_forests is not available.\n"
     ]
    },
    {
     "name": "stdout",
     "output_type": "stream",
     "text": [
      "INFO:tensorflow:tensorflow_text is not available.\n"
     ]
    },
    {
     "name": "stderr",
     "output_type": "stream",
     "text": [
      "INFO:tensorflow:tensorflow_text is not available.\n"
     ]
    },
    {
     "name": "stdout",
     "output_type": "stream",
     "text": [
      "INFO:tensorflow:Assets written to: outputs\\Bima Prastyaji-pipeline\\Trainer\\model\\8\\Format-Serving\\assets\n"
     ]
    },
    {
     "name": "stderr",
     "output_type": "stream",
     "text": [
      "INFO:tensorflow:Assets written to: outputs\\Bima Prastyaji-pipeline\\Trainer\\model\\8\\Format-Serving\\assets\n"
     ]
    },
    {
     "name": "stdout",
     "output_type": "stream",
     "text": [
      "You must install pydot (`pip install pydot`) and install graphviz (see instructions at https://graphviz.gitlab.io/download/) for plot_model to work.\n"
     ]
    },
    {
     "name": "stderr",
     "output_type": "stream",
     "text": [
      "WARNING:absl:ArtifactQuery.property_predicate is not supported.\n",
      "WARNING:absl:ArtifactQuery.property_predicate is not supported.\n"
     ]
    },
    {
     "name": "stdout",
     "output_type": "stream",
     "text": [
      "WARNING:tensorflow:Inconsistent references when loading the checkpoint into this object graph. For example, in the saved checkpoint object, `model.layer.weight` and `model.layer_copy.weight` reference the same variable, while in the current object these are two different variables. The referenced variables are:(<keras.saving.saved_model.load.TensorFlowTransform>TransformFeaturesLayer object at 0x0000023F2A842A30> and <keras.engine.input_layer.InputLayer object at 0x0000023F2E03BD30>).\n"
     ]
    },
    {
     "name": "stderr",
     "output_type": "stream",
     "text": [
      "WARNING:tensorflow:Inconsistent references when loading the checkpoint into this object graph. For example, in the saved checkpoint object, `model.layer.weight` and `model.layer_copy.weight` reference the same variable, while in the current object these are two different variables. The referenced variables are:(<keras.saving.saved_model.load.TensorFlowTransform>TransformFeaturesLayer object at 0x0000023F2A842A30> and <keras.engine.input_layer.InputLayer object at 0x0000023F2E03BD30>).\n"
     ]
    },
    {
     "name": "stdout",
     "output_type": "stream",
     "text": [
      "WARNING:tensorflow:Inconsistent references when loading the checkpoint into this object graph. For example, in the saved checkpoint object, `model.layer.weight` and `model.layer_copy.weight` reference the same variable, while in the current object these are two different variables. The referenced variables are:(<keras.saving.saved_model.load.TensorFlowTransform>TransformFeaturesLayer object at 0x0000023F2DFED160> and <keras.engine.input_layer.InputLayer object at 0x0000023F1F0B52B0>).\n"
     ]
    },
    {
     "name": "stderr",
     "output_type": "stream",
     "text": [
      "WARNING:tensorflow:Inconsistent references when loading the checkpoint into this object graph. For example, in the saved checkpoint object, `model.layer.weight` and `model.layer_copy.weight` reference the same variable, while in the current object these are two different variables. The referenced variables are:(<keras.saving.saved_model.load.TensorFlowTransform>TransformFeaturesLayer object at 0x0000023F2DFED160> and <keras.engine.input_layer.InputLayer object at 0x0000023F1F0B52B0>).\n"
     ]
    },
    {
     "name": "stdout",
     "output_type": "stream",
     "text": [
      "WARNING:tensorflow:Inconsistent references when loading the checkpoint into this object graph. For example, in the saved checkpoint object, `model.layer.weight` and `model.layer_copy.weight` reference the same variable, while in the current object these are two different variables. The referenced variables are:(<keras.saving.saved_model.load.TensorFlowTransform>TransformFeaturesLayer object at 0x0000023F32AA4700> and <keras.engine.input_layer.InputLayer object at 0x0000023F2F4D4D00>).\n"
     ]
    },
    {
     "name": "stderr",
     "output_type": "stream",
     "text": [
      "WARNING:tensorflow:Inconsistent references when loading the checkpoint into this object graph. For example, in the saved checkpoint object, `model.layer.weight` and `model.layer_copy.weight` reference the same variable, while in the current object these are two different variables. The referenced variables are:(<keras.saving.saved_model.load.TensorFlowTransform>TransformFeaturesLayer object at 0x0000023F32AA4700> and <keras.engine.input_layer.InputLayer object at 0x0000023F2F4D4D00>).\n"
     ]
    },
    {
     "name": "stdout",
     "output_type": "stream",
     "text": [
      "WARNING:tensorflow:Inconsistent references when loading the checkpoint into this object graph. For example, in the saved checkpoint object, `model.layer.weight` and `model.layer_copy.weight` reference the same variable, while in the current object these are two different variables. The referenced variables are:(<keras.saving.saved_model.load.TensorFlowTransform>TransformFeaturesLayer object at 0x0000023F2A7B3D90> and <keras.engine.input_layer.InputLayer object at 0x0000023F1ED4BA60>).\n"
     ]
    },
    {
     "name": "stderr",
     "output_type": "stream",
     "text": [
      "WARNING:tensorflow:Inconsistent references when loading the checkpoint into this object graph. For example, in the saved checkpoint object, `model.layer.weight` and `model.layer_copy.weight` reference the same variable, while in the current object these are two different variables. The referenced variables are:(<keras.saving.saved_model.load.TensorFlowTransform>TransformFeaturesLayer object at 0x0000023F2A7B3D90> and <keras.engine.input_layer.InputLayer object at 0x0000023F1ED4BA60>).\n"
     ]
    },
    {
     "name": "stdout",
     "output_type": "stream",
     "text": [
      "WARNING:tensorflow:Inconsistent references when loading the checkpoint into this object graph. For example, in the saved checkpoint object, `model.layer.weight` and `model.layer_copy.weight` reference the same variable, while in the current object these are two different variables. The referenced variables are:(<keras.saving.saved_model.load.TensorFlowTransform>TransformFeaturesLayer object at 0x0000023F26EF2F70> and <keras.engine.input_layer.InputLayer object at 0x0000023F234A78B0>).\n"
     ]
    },
    {
     "name": "stderr",
     "output_type": "stream",
     "text": [
      "WARNING:tensorflow:Inconsistent references when loading the checkpoint into this object graph. For example, in the saved checkpoint object, `model.layer.weight` and `model.layer_copy.weight` reference the same variable, while in the current object these are two different variables. The referenced variables are:(<keras.saving.saved_model.load.TensorFlowTransform>TransformFeaturesLayer object at 0x0000023F26EF2F70> and <keras.engine.input_layer.InputLayer object at 0x0000023F234A78B0>).\n"
     ]
    },
    {
     "name": "stdout",
     "output_type": "stream",
     "text": [
      "WARNING:tensorflow:Inconsistent references when loading the checkpoint into this object graph. For example, in the saved checkpoint object, `model.layer.weight` and `model.layer_copy.weight` reference the same variable, while in the current object these are two different variables. The referenced variables are:(<keras.saving.saved_model.load.TensorFlowTransform>TransformFeaturesLayer object at 0x0000023F2CC724C0> and <keras.engine.input_layer.InputLayer object at 0x0000023F2E0D2AC0>).\n"
     ]
    },
    {
     "name": "stderr",
     "output_type": "stream",
     "text": [
      "WARNING:tensorflow:Inconsistent references when loading the checkpoint into this object graph. For example, in the saved checkpoint object, `model.layer.weight` and `model.layer_copy.weight` reference the same variable, while in the current object these are two different variables. The referenced variables are:(<keras.saving.saved_model.load.TensorFlowTransform>TransformFeaturesLayer object at 0x0000023F2CC724C0> and <keras.engine.input_layer.InputLayer object at 0x0000023F2E0D2AC0>).\n"
     ]
    },
    {
     "name": "stdout",
     "output_type": "stream",
     "text": [
      "WARNING:tensorflow:Inconsistent references when loading the checkpoint into this object graph. For example, in the saved checkpoint object, `model.layer.weight` and `model.layer_copy.weight` reference the same variable, while in the current object these are two different variables. The referenced variables are:(<keras.saving.saved_model.load.TensorFlowTransform>TransformFeaturesLayer object at 0x0000023F3279FBE0> and <keras.engine.input_layer.InputLayer object at 0x0000023F31696190>).\n"
     ]
    },
    {
     "name": "stderr",
     "output_type": "stream",
     "text": [
      "WARNING:tensorflow:Inconsistent references when loading the checkpoint into this object graph. For example, in the saved checkpoint object, `model.layer.weight` and `model.layer_copy.weight` reference the same variable, while in the current object these are two different variables. The referenced variables are:(<keras.saving.saved_model.load.TensorFlowTransform>TransformFeaturesLayer object at 0x0000023F3279FBE0> and <keras.engine.input_layer.InputLayer object at 0x0000023F31696190>).\n"
     ]
    },
    {
     "name": "stdout",
     "output_type": "stream",
     "text": [
      "WARNING:tensorflow:Inconsistent references when loading the checkpoint into this object graph. For example, in the saved checkpoint object, `model.layer.weight` and `model.layer_copy.weight` reference the same variable, while in the current object these are two different variables. The referenced variables are:(<keras.saving.saved_model.load.TensorFlowTransform>TransformFeaturesLayer object at 0x0000023F3C049D90> and <keras.engine.input_layer.InputLayer object at 0x0000023F3BF87EB0>).\n"
     ]
    },
    {
     "name": "stderr",
     "output_type": "stream",
     "text": [
      "WARNING:tensorflow:Inconsistent references when loading the checkpoint into this object graph. For example, in the saved checkpoint object, `model.layer.weight` and `model.layer_copy.weight` reference the same variable, while in the current object these are two different variables. The referenced variables are:(<keras.saving.saved_model.load.TensorFlowTransform>TransformFeaturesLayer object at 0x0000023F3C049D90> and <keras.engine.input_layer.InputLayer object at 0x0000023F3BF87EB0>).\n"
     ]
    },
    {
     "name": "stdout",
     "output_type": "stream",
     "text": [
      "WARNING:tensorflow:From c:\\Users\\bimap\\anaconda3\\envs\\proyek-2-mlops\\lib\\site-packages\\tensorflow_model_analysis\\writers\\metrics_plots_and_validations_writer.py:110: tf_record_iterator (from tensorflow.python.lib.io.tf_record) is deprecated and will be removed in a future version.\n",
      "Instructions for updating:\n",
      "Use eager execution and: \n",
      "`tf.data.TFRecordDataset(path)`\n"
     ]
    },
    {
     "name": "stderr",
     "output_type": "stream",
     "text": [
      "WARNING:tensorflow:From c:\\Users\\bimap\\anaconda3\\envs\\proyek-2-mlops\\lib\\site-packages\\tensorflow_model_analysis\\writers\\metrics_plots_and_validations_writer.py:110: tf_record_iterator (from tensorflow.python.lib.io.tf_record) is deprecated and will be removed in a future version.\n",
      "Instructions for updating:\n",
      "Use eager execution and: \n",
      "`tf.data.TFRecordDataset(path)`\n",
      "WARNING:absl:ArtifactQuery.property_predicate is not supported.\n",
      "WARNING:absl:ArtifactQuery.property_predicate is not supported.\n"
     ]
    }
   ],
   "source": [
    "def init_pipeline(\n",
    "    components, pipeline_root: Text\n",
    ") -> pipeline.Pipeline:\n",
    "    \n",
    "    logging.info(f\"Pipeline root set to: {pipeline_root}\")\n",
    "    beam_args = [\n",
    "        \"--direct_running_mode=multi_processing\"\n",
    "        # 0 auto-detect based on on the number of CPUs available \n",
    "        # during execution time.\n",
    "        \"----direct_num_workers=0\" \n",
    "    ]\n",
    "    \n",
    "    return pipeline.Pipeline(\n",
    "        pipeline_name=PIPELINE_NAME,\n",
    "        pipeline_root=pipeline_root,\n",
    "        components=components,\n",
    "        enable_cache=True,\n",
    "        metadata_connection_config=metadata.sqlite_metadata_connection_config(\n",
    "            metadata_path\n",
    "        ),\n",
    "        eam_pipeline_args=beam_args\n",
    "    )\n",
    "\n",
    "components = init_components(\n",
    "        DATA_ROOT,\n",
    "        tuner_module=TUNER_TRAINER_MODULE_FILE,\n",
    "        training_module=TUNER_TRAINER_MODULE_FILE,\n",
    "        transform_module=TRANSFORM_MODULE_FILE,\n",
    "        training_steps=1000,\n",
    "        eval_steps=500,\n",
    "        serving_model_dir=serving_model_dir,\n",
    "    )\n",
    "    \n",
    "pipeline = init_pipeline(components, pipeline_root)\n",
    "BeamDagRunner().run(pipeline=pipeline)"
   ]
  }
 ],
 "metadata": {
  "kernelspec": {
   "display_name": "proyek-2-mlops",
   "language": "python",
   "name": "python3"
  },
  "language_info": {
   "codemirror_mode": {
    "name": "ipython",
    "version": 3
   },
   "file_extension": ".py",
   "mimetype": "text/x-python",
   "name": "python",
   "nbconvert_exporter": "python",
   "pygments_lexer": "ipython3",
   "version": "3.8.18"
  }
 },
 "nbformat": 4,
 "nbformat_minor": 2
}
